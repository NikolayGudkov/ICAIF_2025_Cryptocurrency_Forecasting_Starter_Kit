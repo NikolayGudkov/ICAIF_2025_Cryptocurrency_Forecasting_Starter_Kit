{
 "cells": [
  {
   "cell_type": "code",
   "execution_count": 1,
   "id": "a9de5de1",
   "metadata": {},
   "outputs": [],
   "source": [
    "import os, sys, json, time, warnings\n",
    "from pathlib import Path\n",
    "import numpy as np\n",
    "import pandas as pd\n",
    "from tqdm.auto import tqdm\n",
    "\n",
    "import torch\n",
    "import torch.nn as nn\n",
    "import torch.nn.functional as F\n",
    "from torch.utils.data import Dataset, DataLoader"
   ]
  },
  {
   "cell_type": "code",
   "execution_count": 2,
   "id": "3a68178e",
   "metadata": {},
   "outputs": [
    {
     "data": {
      "text/plain": [
       "'cuda'"
      ]
     },
     "execution_count": 2,
     "metadata": {},
     "output_type": "execute_result"
    }
   ],
   "source": [
    "# Paths (adjust if your layout differs)\n",
    "ROOT = Path('/home/pduce/ICAIF_2025_Cryptocurrency_Forecasting_Starter_Kit')\n",
    "DATA = ROOT / \"data\"\n",
    "SRC  = ROOT / \"src\"\n",
    "SUBM = ROOT / \"sample_submission\"\n",
    "\n",
    "# Ensure src is importable\n",
    "if str(SRC) not in sys.path:\n",
    "    sys.path.insert(0, str(SRC))\n",
    "\n",
    "# Create sample_submission dir if missing\n",
    "SUBM.mkdir(parents=True, exist_ok=True)\n",
    "\n",
    "SEED = 1337\n",
    "np.random.seed(SEED)\n",
    "torch.manual_seed(SEED)\n",
    "\n",
    "DEVICE = 'cuda' if torch.cuda.is_available() else 'cpu'\n",
    "DEVICE"
   ]
  },
  {
   "cell_type": "code",
   "execution_count": 3,
   "id": "189d290a",
   "metadata": {},
   "outputs": [
    {
     "name": "stdout",
     "output_type": "stream",
     "text": [
      "dataset_info.json loaded. Keys: ['freq', 'features', 'input_len', 'horizon_len', 'dtypes', 'outputs', 'sha256']\n",
      "{\n",
      "  \"features\": [\n",
      "    \"close\",\n",
      "    \"volume\"\n",
      "  ],\n",
      "  \"input_len\": 60,\n",
      "  \"horizon_len\": 10,\n",
      "  \"outputs\": {\n",
      "    \"train\": {\n",
      "      \"columns\": [\n",
      "        \"series_id\",\n",
      "        \"time_step\",\n",
      "        \"close\",\n",
      "        \"volume\"\n",
      "      ]\n",
      "    },\n",
      "    \"x_test\": {\n",
      "      \"columns\": [\n",
      "        \"window_id\",\n",
      "        \"time_step\",\n",
      "        \"close\",\n",
      "        \"volume\"\n",
      "      ]\n",
      "    },\n",
      "    \"y_test_local\": {\n",
      "      \"columns\": [\n",
      "        \"window_id\",\n",
      "        \"time_step\",\n",
      "        \"close\"\n",
      "      ]\n",
      "    }\n",
      "  }\n",
      "}\n",
      "train shape: (18331224, 4) | columns: ['series_id', 'time_step', 'close', 'volume']\n",
      "x_test  shape: (3000000, 4) | columns: ['window_id', 'time_step', 'close', 'volume']\n",
      "y_test_local shape: (20, 3) | columns: ['window_id', 'time_step', 'close']\n"
     ]
    },
    {
     "data": {
      "text/html": [
       "<div>\n",
       "<style scoped>\n",
       "    .dataframe tbody tr th:only-of-type {\n",
       "        vertical-align: middle;\n",
       "    }\n",
       "\n",
       "    .dataframe tbody tr th {\n",
       "        vertical-align: top;\n",
       "    }\n",
       "\n",
       "    .dataframe thead th {\n",
       "        text-align: right;\n",
       "    }\n",
       "</style>\n",
       "<table border=\"1\" class=\"dataframe\">\n",
       "  <thead>\n",
       "    <tr style=\"text-align: right;\">\n",
       "      <th></th>\n",
       "      <th>series_id</th>\n",
       "      <th>time_step</th>\n",
       "      <th>close</th>\n",
       "      <th>volume</th>\n",
       "    </tr>\n",
       "  </thead>\n",
       "  <tbody>\n",
       "    <tr>\n",
       "      <th>0</th>\n",
       "      <td>1</td>\n",
       "      <td>0</td>\n",
       "      <td>0.13700</td>\n",
       "      <td>171985.703125</td>\n",
       "    </tr>\n",
       "    <tr>\n",
       "      <th>1</th>\n",
       "      <td>1</td>\n",
       "      <td>1</td>\n",
       "      <td>0.13656</td>\n",
       "      <td>85451.398438</td>\n",
       "    </tr>\n",
       "    <tr>\n",
       "      <th>2</th>\n",
       "      <td>1</td>\n",
       "      <td>2</td>\n",
       "      <td>0.13647</td>\n",
       "      <td>121151.898438</td>\n",
       "    </tr>\n",
       "  </tbody>\n",
       "</table>\n",
       "</div>"
      ],
      "text/plain": [
       "   series_id  time_step    close         volume\n",
       "0          1          0  0.13700  171985.703125\n",
       "1          1          1  0.13656   85451.398438\n",
       "2          1          2  0.13647  121151.898438"
      ]
     },
     "metadata": {},
     "output_type": "display_data"
    },
    {
     "data": {
      "text/html": [
       "<div>\n",
       "<style scoped>\n",
       "    .dataframe tbody tr th:only-of-type {\n",
       "        vertical-align: middle;\n",
       "    }\n",
       "\n",
       "    .dataframe tbody tr th {\n",
       "        vertical-align: top;\n",
       "    }\n",
       "\n",
       "    .dataframe thead th {\n",
       "        text-align: right;\n",
       "    }\n",
       "</style>\n",
       "<table border=\"1\" class=\"dataframe\">\n",
       "  <thead>\n",
       "    <tr style=\"text-align: right;\">\n",
       "      <th></th>\n",
       "      <th>window_id</th>\n",
       "      <th>time_step</th>\n",
       "      <th>close</th>\n",
       "      <th>volume</th>\n",
       "    </tr>\n",
       "  </thead>\n",
       "  <tbody>\n",
       "    <tr>\n",
       "      <th>0</th>\n",
       "      <td>1</td>\n",
       "      <td>0</td>\n",
       "      <td>0.1126</td>\n",
       "      <td>24976.0</td>\n",
       "    </tr>\n",
       "    <tr>\n",
       "      <th>1</th>\n",
       "      <td>1</td>\n",
       "      <td>1</td>\n",
       "      <td>0.1126</td>\n",
       "      <td>0.0</td>\n",
       "    </tr>\n",
       "    <tr>\n",
       "      <th>2</th>\n",
       "      <td>1</td>\n",
       "      <td>2</td>\n",
       "      <td>0.1125</td>\n",
       "      <td>2299.0</td>\n",
       "    </tr>\n",
       "  </tbody>\n",
       "</table>\n",
       "</div>"
      ],
      "text/plain": [
       "   window_id  time_step   close   volume\n",
       "0          1          0  0.1126  24976.0\n",
       "1          1          1  0.1126      0.0\n",
       "2          1          2  0.1125   2299.0"
      ]
     },
     "metadata": {},
     "output_type": "display_data"
    },
    {
     "data": {
      "text/html": [
       "<div>\n",
       "<style scoped>\n",
       "    .dataframe tbody tr th:only-of-type {\n",
       "        vertical-align: middle;\n",
       "    }\n",
       "\n",
       "    .dataframe tbody tr th {\n",
       "        vertical-align: top;\n",
       "    }\n",
       "\n",
       "    .dataframe thead th {\n",
       "        text-align: right;\n",
       "    }\n",
       "</style>\n",
       "<table border=\"1\" class=\"dataframe\">\n",
       "  <thead>\n",
       "    <tr style=\"text-align: right;\">\n",
       "      <th></th>\n",
       "      <th>window_id</th>\n",
       "      <th>time_step</th>\n",
       "      <th>close</th>\n",
       "    </tr>\n",
       "  </thead>\n",
       "  <tbody>\n",
       "    <tr>\n",
       "      <th>0</th>\n",
       "      <td>1</td>\n",
       "      <td>0</td>\n",
       "      <td>0.1131</td>\n",
       "    </tr>\n",
       "    <tr>\n",
       "      <th>1</th>\n",
       "      <td>1</td>\n",
       "      <td>1</td>\n",
       "      <td>0.1131</td>\n",
       "    </tr>\n",
       "    <tr>\n",
       "      <th>2</th>\n",
       "      <td>1</td>\n",
       "      <td>2</td>\n",
       "      <td>0.1130</td>\n",
       "    </tr>\n",
       "  </tbody>\n",
       "</table>\n",
       "</div>"
      ],
      "text/plain": [
       "   window_id  time_step   close\n",
       "0          1          0  0.1131\n",
       "1          1          1  0.1131\n",
       "2          1          2  0.1130"
      ]
     },
     "metadata": {},
     "output_type": "display_data"
    }
   ],
   "source": [
    "# Load dataset files\n",
    "info_path = DATA / \"dataset_info.json\"\n",
    "if info_path.exists():\n",
    "    info = json.loads(info_path.read_text(encoding=\"utf-8\"))\n",
    "    print(\"dataset_info.json loaded. Keys:\", list(info.keys()))\n",
    "    print(json.dumps({k: info[k] for k in ['features','input_len','horizon_len','outputs']}, indent=2))\n",
    "else:\n",
    "    print(\"dataset_info.json not found at\", info_path)\n",
    "\n",
    "# Peek train / x_test\n",
    "train_path = DATA / \"train.pkl\"\n",
    "x_test_path  = DATA / \"x_test.pkl\"\n",
    "y_local_path = DATA / \"y_test_local.pkl\"\n",
    "\n",
    "train = pd.read_pickle(train_path)\n",
    "x_test  = pd.read_pickle(x_test_path)\n",
    "y_test_local = pd.read_pickle(y_local_path)\n",
    "\n",
    "print(\"train shape:\", train.shape, \"| columns:\", train.columns.tolist())\n",
    "print(\"x_test  shape:\", x_test.shape,  \"| columns:\", x_test.columns.tolist())\n",
    "print(\"y_test_local shape:\", y_test_local.shape, \"| columns:\", y_test_local.columns.tolist())\n",
    "\n",
    "display(train.head(3))\n",
    "display(x_test.head(3))\n",
    "display(y_test_local.head(3))"
   ]
  },
  {
   "cell_type": "code",
   "execution_count": 4,
   "id": "8726d6e5",
   "metadata": {},
   "outputs": [
    {
     "data": {
      "text/plain": [
       "(18327774, (18327774, 60, 2), (18327774, 10))"
      ]
     },
     "execution_count": 4,
     "metadata": {},
     "output_type": "execute_result"
    }
   ],
   "source": [
    "# Use the sampler logic from src/dataset.py to slice windows\n",
    "from icaif.dataset import TrainWindowSampler\n",
    "\n",
    "class WindowsDataset(Dataset):\n",
    "    \"\"\"\n",
    "    Wrap TrainWindowSampler into a PyTorch Dataset.\n",
    "    Returns:\n",
    "      X: (60, 2) float32 -> [close, volume]\n",
    "      y: (10,)  float32 -> future close\n",
    "    \"\"\"\n",
    "    def __init__(self, train_path: str, rolling: bool = True, step_size: int = 1, max_samples: int = None):\n",
    "        self.sampler = TrainWindowSampler(\n",
    "            train_path=train_path,\n",
    "            window=70,\n",
    "            input_len=60,\n",
    "            horizon_len=10,\n",
    "            rolling=rolling,\n",
    "            step_size=step_size,\n",
    "            seed=SEED,\n",
    "        )\n",
    "        # Materialize (optionally capped) for stable batching\n",
    "        xs, ys = [], []\n",
    "        for i, (X, y) in enumerate(self.sampler.iter_windows()):\n",
    "            xs.append(X.astype(np.float32))\n",
    "            ys.append(y.astype(np.float32))\n",
    "            if max_samples is not None and (i + 1) >= max_samples:\n",
    "                break\n",
    "        self.X = np.stack(xs, axis=0) if xs else np.zeros((0,60,2), dtype=np.float32)\n",
    "        self.y = np.stack(ys, axis=0) if ys else np.zeros((0,10), dtype=np.float32)\n",
    "\n",
    "    def __len__(self):  return len(self.X)\n",
    "    def __getitem__(self, i):\n",
    "        return torch.from_numpy(self.X[i]), torch.from_numpy(self.y[i])\n",
    "\n",
    "# For a quick demo, cap samples. Increase for better quality.\n",
    "MAX_SAMPLES = None  # set to None to use all windows\n",
    "train_ds = WindowsDataset(str(train_path), rolling=True, step_size=1, max_samples=MAX_SAMPLES)\n",
    "len(train_ds), train_ds.X.shape, train_ds.y.shape"
   ]
  },
  {
   "cell_type": "code",
   "execution_count": 5,
   "id": "9b859c4b",
   "metadata": {},
   "outputs": [
    {
     "name": "stderr",
     "output_type": "stream",
     "text": [
      "2025-10-24 08:34:59.858448: I tensorflow/core/util/port.cc:153] oneDNN custom operations are on. You may see slightly different numerical results due to floating-point round-off errors from different computation orders. To turn them off, set the environment variable `TF_ENABLE_ONEDNN_OPTS=0`.\n",
      "2025-10-24 08:35:00.048674: I tensorflow/core/platform/cpu_feature_guard.cc:210] This TensorFlow binary is optimized to use available CPU instructions in performance-critical operations.\n",
      "To enable the following instructions: AVX2 AVX_VNNI FMA, in other operations, rebuild TensorFlow with the appropriate compiler flags.\n"
     ]
    }
   ],
   "source": [
    "from keras_sig import jax_gpu_signature, jax_gpu_logsignature"
   ]
  },
  {
   "cell_type": "code",
   "execution_count": 6,
   "id": "6d5c0d82",
   "metadata": {},
   "outputs": [],
   "source": [
    "from keras_sig import jax_gpu_signature\n",
    "\n",
    "n_total = train_ds.X.shape[0]\n",
    "chunk_size = n_total // 100\n",
    "sig_dim = jax_gpu_logsignature(train_ds.X[:1], depth=6, stream=False).shape[1]\n",
    "\n",
    "all_sigs = []\n",
    "\n",
    "for i, arr in enumerate(np.array_split(train_ds.X, 100)):\n",
    "\n",
    "    # Assume arr has shape (..., 2)\n",
    "    arr0 = arr[:, :, 0]\n",
    "    arr1 = arr[:, :, 1]\n",
    "\n",
    "    # Log diff only on the first feature\n",
    "    log_arr0 = np.log(arr0)\n",
    "    log_arr0 = np.nan_to_num(log_arr0, nan=0.0, posinf=0.0, neginf=0.0)\n",
    "\n",
    "    diff0 = np.diff(log_arr0, axis=1, prepend=log_arr0[:, :1])\n",
    "    diff0 = np.nan_to_num(diff0, nan=0.0, posinf=0.0, neginf=0.0)\n",
    "\n",
    "    y_arr = (diff0*arr1).cumsum(axis=1)\n",
    "    y_arr = y_arr[:,:,None]\n",
    "\n",
    "    sig_np = jax_gpu_logsignature(y_arr, depth=6, stream=False)\n",
    "    all_sigs.append(sig_np)\n",
    "all_sigs = np.concatenate(all_sigs, axis=0)"
   ]
  },
  {
   "cell_type": "code",
   "execution_count": 23,
   "id": "444f6a77",
   "metadata": {},
   "outputs": [
    {
     "data": {
      "text/plain": [
       "Array([[-1.0517851e+02,  5.5312588e+03, -1.9392314e+05, ...,\n",
       "         1.8804326e+09, -2.8244939e+10,  3.7185274e+11],\n",
       "       [-6.2737877e+01,  1.9680220e+03, -4.1156352e+04, ...,\n",
       "         8.4704352e+07, -7.5615213e+08,  6.0591386e+09],\n",
       "       [-4.6392666e+01,  1.0761399e+03, -1.6641770e+04, ...,\n",
       "         1.3854812e+07, -9.1532992e+07,  4.8473933e+08],\n",
       "       ...,\n",
       "       [-6.8093516e+03,  2.3183636e+07, -5.2621849e+10, ...,\n",
       "         1.3845289e+20, -1.3468216e+23,  1.1463714e+26],\n",
       "       [-6.8430249e+03,  2.3413496e+07, -5.3406380e+10, ...,\n",
       "         1.4261206e+20, -1.3941399e+23,  1.1925163e+26],\n",
       "       [-6.8243135e+03,  2.3285626e+07, -5.2969472e+10, ...,\n",
       "         1.4028824e+20, -1.3676729e+23,  1.1666794e+26]], dtype=float32)"
      ]
     },
     "execution_count": 23,
     "metadata": {},
     "output_type": "execute_result"
    }
   ],
   "source": [
    "jax_gpu_signature(y_arr, depth=8, stream=False)"
   ]
  },
  {
   "cell_type": "code",
   "execution_count": 29,
   "id": "f6e60530",
   "metadata": {},
   "outputs": [
    {
     "data": {
      "text/plain": [
       "<Axes: >"
      ]
     },
     "execution_count": 29,
     "metadata": {},
     "output_type": "execute_result"
    },
    {
     "data": {
      "image/png": "[encoded data removed]",
      "text/plain": [
       "<Figure size 640x480 with 1 Axes>"
      ]
     },
     "metadata": {},
     "output_type": "display_data"
    }
   ],
   "source": [
    "pd.Series(y_arr[-1].flatten()).plot()"
   ]
  },
  {
   "cell_type": "code",
   "execution_count": 41,
   "id": "0d150c6a",
   "metadata": {},
   "outputs": [
    {
     "data": {
      "text/plain": [
       "Array(1.067992e+26, dtype=float32)"
      ]
     },
     "execution_count": 41,
     "metadata": {},
     "output_type": "execute_result"
    }
   ],
   "source": [
    "jax_gpu_signature(y_arr, depth=4, stream=False).mean()"
   ]
  },
  {
   "cell_type": "code",
   "execution_count": 38,
   "id": "2b975be4",
   "metadata": {},
   "outputs": [
    {
     "data": {
      "text/plain": [
       "Array([-1.9601583e-03,  2.0828039e+06, -2.5402197e+02,  1.6398919e+00,\n",
       "       -1.4595407e+09,  5.8532180e-04, -1.1864950e+05, -5.7010054e+13,\n",
       "        5.9605463e-07, -1.0436504e+03,  4.7523027e+03,  3.7145123e+11,\n",
       "       -1.3335108e+11,  1.5799416e+20,  1.9396662e-10, -3.9099312e-01,\n",
       "        2.1379566e+00,  3.8420480e+06,  1.7665434e+08, -4.5028557e+08,\n",
       "        4.5827645e+16, -4.9867250e+16,  5.5334329e+24], dtype=float32)"
      ]
     },
     "execution_count": 38,
     "metadata": {},
     "output_type": "execute_result"
    }
   ],
   "source": [
    "sig_np[0]"
   ]
  },
  {
   "cell_type": "code",
   "execution_count": 7,
   "id": "04d3ee5b",
   "metadata": {},
   "outputs": [],
   "source": [
    "import pickle\n",
    "with open(\"/home/pduce/ICAIF_2025_Cryptocurrency_Forecasting_Starter_Kit/data/sigs.pkl\", \"wb\") as f:\n",
    "    pickle.dump(all_sigs, f)"
   ]
  }
 ],
 "metadata": {
  "kernelspec": {
   "display_name": ".venv",
   "language": "python",
   "name": "python3"
  },
  "language_info": {
   "codemirror_mode": {
    "name": "ipython",
    "version": 3
   },
   "file_extension": ".py",
   "mimetype": "text/x-python",
   "name": "python",
   "nbconvert_exporter": "python",
   "pygments_lexer": "ipython3",
   "version": "3.12.10"
  }
 },
 "nbformat": 4,
 "nbformat_minor": 5
}
