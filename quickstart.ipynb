{
 "cells": [
  {
   "cell_type": "markdown",
   "id": "033eb8f7",
   "metadata": {},
   "source": [
    "# Quickstart\n",
    "\n",
    "This notebook will:\n",
    "\n",
    "1. Load the datasets: `data/train.pkl`, `data/x_test.pkl` and `data/y_test_local.pkl`.\n",
    "2. Fit per-window ARIMA models on 60-minute input sequences to forecast the following 10 minutes.\n",
    "3. Perform evaluation:\n",
    "   - **Local validation** on `y_test_local.pkl` (window_id 1–2)  \n",
    "   - **Official metrics:** MSE, MAE, IC, IR, Sharpe Ratio, MDD, VaR, ES  \n",
    "   - **Trading snapshots:** CSM and LOTQ\n",
    "4. Run inference on `x_test` and generate a PICKLE submission file at `sample_submission/submission.pkl`.\n",
    "5. Save dummy `model_weights.pkl` into `sample_submission/` for submission compatibility. *(note: this is only a minimal example; in real deep learning models the weights file would be generated automatically during training.)*"
   ]
  },
  {
   "cell_type": "code",
   "execution_count": 1,
   "id": "4e7e5cb9",
   "metadata": {},
   "outputs": [],
   "source": [
    "import os, sys, json, time, warnings\n",
    "from pathlib import Path\n",
    "import numpy as np\n",
    "import pandas as pd\n",
    "from tqdm.auto import tqdm\n",
    "\n",
    "import torch\n",
    "import torch.nn as nn\n",
    "import torch.nn.functional as F\n",
    "from torch.utils.data import Dataset, DataLoader"
   ]
  },
  {
   "cell_type": "code",
   "execution_count": 2,
   "id": "e53a7239",
   "metadata": {},
   "outputs": [
    {
     "data": {
      "text/plain": [
       "'cuda'"
      ]
     },
     "execution_count": 2,
     "metadata": {},
     "output_type": "execute_result"
    }
   ],
   "source": [
    "# Paths (adjust if your layout differs)\n",
    "ROOT = Path.cwd().parent if (Path.cwd().name == 'src') else Path.cwd()\n",
    "DATA = ROOT / \"data\"\n",
    "SRC  = ROOT / \"src\"\n",
    "SUBM = ROOT / \"sample_submission\"\n",
    "\n",
    "# Ensure src is importable\n",
    "if str(SRC) not in sys.path:\n",
    "    sys.path.insert(0, str(SRC))\n",
    "\n",
    "# Create sample_submission dir if missing\n",
    "SUBM.mkdir(parents=True, exist_ok=True)\n",
    "\n",
    "SEED = 1337\n",
    "np.random.seed(SEED)\n",
    "torch.manual_seed(SEED)\n",
    "\n",
    "DEVICE = 'cuda' if torch.cuda.is_available() else 'cpu'\n",
    "DEVICE"
   ]
  },
  {
   "cell_type": "code",
   "execution_count": 3,
   "id": "d0683b68",
   "metadata": {},
   "outputs": [
    {
     "name": "stdout",
     "output_type": "stream",
     "text": [
      "dataset_info.json loaded. Keys: ['freq', 'features', 'input_len', 'horizon_len', 'dtypes', 'outputs', 'sha256']\n",
      "{\n",
      "  \"features\": [\n",
      "    \"close\",\n",
      "    \"volume\"\n",
      "  ],\n",
      "  \"input_len\": 60,\n",
      "  \"horizon_len\": 10,\n",
      "  \"outputs\": {\n",
      "    \"train\": {\n",
      "      \"columns\": [\n",
      "        \"series_id\",\n",
      "        \"time_step\",\n",
      "        \"close\",\n",
      "        \"volume\"\n",
      "      ]\n",
      "    },\n",
      "    \"x_test\": {\n",
      "      \"columns\": [\n",
      "        \"window_id\",\n",
      "        \"time_step\",\n",
      "        \"close\",\n",
      "        \"volume\"\n",
      "      ]\n",
      "    },\n",
      "    \"y_test_local\": {\n",
      "      \"columns\": [\n",
      "        \"window_id\",\n",
      "        \"time_step\",\n",
      "        \"close\"\n",
      "      ]\n",
      "    }\n",
      "  }\n",
      "}\n",
      "train shape: (18331224, 4) | columns: ['series_id', 'time_step', 'close', 'volume']\n",
      "x_test  shape: (3000000, 4) | columns: ['window_id', 'time_step', 'close', 'volume']\n",
      "y_test_local_time shape: (100, 5) | columns: ['window_id', 'time_step', 'close', 'event_datetime', 'token']\n"
     ]
    },
    {
     "data": {
      "application/vnd.microsoft.datawrangler.viewer.v0+json": {
       "columns": [
        {
         "name": "index",
         "rawType": "int64",
         "type": "integer"
        },
        {
         "name": "series_id",
         "rawType": "int64",
         "type": "integer"
        },
        {
         "name": "time_step",
         "rawType": "int32",
         "type": "integer"
        },
        {
         "name": "close",
         "rawType": "float32",
         "type": "float"
        },
        {
         "name": "volume",
         "rawType": "float32",
         "type": "float"
        }
       ],
       "ref": "8d3d8bdb-4111-4be5-b858-4af038f688ec",
       "rows": [
        [
         "0",
         "1",
         "0",
         "0.137",
         "171985.7"
        ],
        [
         "1",
         "1",
         "1",
         "0.13656",
         "85451.4"
        ],
        [
         "2",
         "1",
         "2",
         "0.13647",
         "121151.9"
        ]
       ],
       "shape": {
        "columns": 4,
        "rows": 3
       }
      },
      "text/html": [
       "<div>\n",
       "<style scoped>\n",
       "    .dataframe tbody tr th:only-of-type {\n",
       "        vertical-align: middle;\n",
       "    }\n",
       "\n",
       "    .dataframe tbody tr th {\n",
       "        vertical-align: top;\n",
       "    }\n",
       "\n",
       "    .dataframe thead th {\n",
       "        text-align: right;\n",
       "    }\n",
       "</style>\n",
       "<table border=\"1\" class=\"dataframe\">\n",
       "  <thead>\n",
       "    <tr style=\"text-align: right;\">\n",
       "      <th></th>\n",
       "      <th>series_id</th>\n",
       "      <th>time_step</th>\n",
       "      <th>close</th>\n",
       "      <th>volume</th>\n",
       "    </tr>\n",
       "  </thead>\n",
       "  <tbody>\n",
       "    <tr>\n",
       "      <th>0</th>\n",
       "      <td>1</td>\n",
       "      <td>0</td>\n",
       "      <td>0.13700</td>\n",
       "      <td>171985.703125</td>\n",
       "    </tr>\n",
       "    <tr>\n",
       "      <th>1</th>\n",
       "      <td>1</td>\n",
       "      <td>1</td>\n",
       "      <td>0.13656</td>\n",
       "      <td>85451.398438</td>\n",
       "    </tr>\n",
       "    <tr>\n",
       "      <th>2</th>\n",
       "      <td>1</td>\n",
       "      <td>2</td>\n",
       "      <td>0.13647</td>\n",
       "      <td>121151.898438</td>\n",
       "    </tr>\n",
       "  </tbody>\n",
       "</table>\n",
       "</div>"
      ],
      "text/plain": [
       "   series_id  time_step    close         volume\n",
       "0          1          0  0.13700  171985.703125\n",
       "1          1          1  0.13656   85451.398438\n",
       "2          1          2  0.13647  121151.898438"
      ]
     },
     "metadata": {},
     "output_type": "display_data"
    },
    {
     "data": {
      "application/vnd.microsoft.datawrangler.viewer.v0+json": {
       "columns": [
        {
         "name": "index",
         "rawType": "int64",
         "type": "integer"
        },
        {
         "name": "window_id",
         "rawType": "int64",
         "type": "integer"
        },
        {
         "name": "time_step",
         "rawType": "int8",
         "type": "integer"
        },
        {
         "name": "close",
         "rawType": "float32",
         "type": "float"
        },
        {
         "name": "volume",
         "rawType": "float32",
         "type": "float"
        }
       ],
       "ref": "4067302a-41c6-4a47-bb25-f5881d25a555",
       "rows": [
        [
         "0",
         "1",
         "0",
         "0.1126",
         "24976.0"
        ],
        [
         "1",
         "1",
         "1",
         "0.1126",
         "0.0"
        ],
        [
         "2",
         "1",
         "2",
         "0.1125",
         "2299.0"
        ]
       ],
       "shape": {
        "columns": 4,
        "rows": 3
       }
      },
      "text/html": [
       "<div>\n",
       "<style scoped>\n",
       "    .dataframe tbody tr th:only-of-type {\n",
       "        vertical-align: middle;\n",
       "    }\n",
       "\n",
       "    .dataframe tbody tr th {\n",
       "        vertical-align: top;\n",
       "    }\n",
       "\n",
       "    .dataframe thead th {\n",
       "        text-align: right;\n",
       "    }\n",
       "</style>\n",
       "<table border=\"1\" class=\"dataframe\">\n",
       "  <thead>\n",
       "    <tr style=\"text-align: right;\">\n",
       "      <th></th>\n",
       "      <th>window_id</th>\n",
       "      <th>time_step</th>\n",
       "      <th>close</th>\n",
       "      <th>volume</th>\n",
       "    </tr>\n",
       "  </thead>\n",
       "  <tbody>\n",
       "    <tr>\n",
       "      <th>0</th>\n",
       "      <td>1</td>\n",
       "      <td>0</td>\n",
       "      <td>0.1126</td>\n",
       "      <td>24976.0</td>\n",
       "    </tr>\n",
       "    <tr>\n",
       "      <th>1</th>\n",
       "      <td>1</td>\n",
       "      <td>1</td>\n",
       "      <td>0.1126</td>\n",
       "      <td>0.0</td>\n",
       "    </tr>\n",
       "    <tr>\n",
       "      <th>2</th>\n",
       "      <td>1</td>\n",
       "      <td>2</td>\n",
       "      <td>0.1125</td>\n",
       "      <td>2299.0</td>\n",
       "    </tr>\n",
       "  </tbody>\n",
       "</table>\n",
       "</div>"
      ],
      "text/plain": [
       "   window_id  time_step   close   volume\n",
       "0          1          0  0.1126  24976.0\n",
       "1          1          1  0.1126      0.0\n",
       "2          1          2  0.1125   2299.0"
      ]
     },
     "metadata": {},
     "output_type": "display_data"
    },
    {
     "data": {
      "application/vnd.microsoft.datawrangler.viewer.v0+json": {
       "columns": [
        {
         "name": "index",
         "rawType": "int64",
         "type": "integer"
        },
        {
         "name": "window_id",
         "rawType": "int64",
         "type": "integer"
        },
        {
         "name": "time_step",
         "rawType": "int64",
         "type": "integer"
        },
        {
         "name": "close",
         "rawType": "float64",
         "type": "float"
        },
        {
         "name": "event_datetime",
         "rawType": "object",
         "type": "string"
        },
        {
         "name": "token",
         "rawType": "object",
         "type": "string"
        }
       ],
       "ref": "ea52dfda-db8f-47f6-bbf3-2221dec3ce73",
       "rows": [
        [
         "0",
         "1",
         "0",
         "0.1131",
         "2025-01-01 00:00:00+00:00",
         "XLMUSDT"
        ],
        [
         "1",
         "1",
         "1",
         "0.1131",
         "2025-01-01 00:01:00+00:00",
         "XLMUSDT"
        ],
        [
         "2",
         "1",
         "2",
         "0.113",
         "2025-01-01 00:02:00+00:00",
         "XLMUSDT"
        ]
       ],
       "shape": {
        "columns": 5,
        "rows": 3
       }
      },
      "text/html": [
       "<div>\n",
       "<style scoped>\n",
       "    .dataframe tbody tr th:only-of-type {\n",
       "        vertical-align: middle;\n",
       "    }\n",
       "\n",
       "    .dataframe tbody tr th {\n",
       "        vertical-align: top;\n",
       "    }\n",
       "\n",
       "    .dataframe thead th {\n",
       "        text-align: right;\n",
       "    }\n",
       "</style>\n",
       "<table border=\"1\" class=\"dataframe\">\n",
       "  <thead>\n",
       "    <tr style=\"text-align: right;\">\n",
       "      <th></th>\n",
       "      <th>window_id</th>\n",
       "      <th>time_step</th>\n",
       "      <th>close</th>\n",
       "      <th>event_datetime</th>\n",
       "      <th>token</th>\n",
       "    </tr>\n",
       "  </thead>\n",
       "  <tbody>\n",
       "    <tr>\n",
       "      <th>0</th>\n",
       "      <td>1</td>\n",
       "      <td>0</td>\n",
       "      <td>0.1131</td>\n",
       "      <td>2025-01-01 00:00:00+00:00</td>\n",
       "      <td>XLMUSDT</td>\n",
       "    </tr>\n",
       "    <tr>\n",
       "      <th>1</th>\n",
       "      <td>1</td>\n",
       "      <td>1</td>\n",
       "      <td>0.1131</td>\n",
       "      <td>2025-01-01 00:01:00+00:00</td>\n",
       "      <td>XLMUSDT</td>\n",
       "    </tr>\n",
       "    <tr>\n",
       "      <th>2</th>\n",
       "      <td>1</td>\n",
       "      <td>2</td>\n",
       "      <td>0.1130</td>\n",
       "      <td>2025-01-01 00:02:00+00:00</td>\n",
       "      <td>XLMUSDT</td>\n",
       "    </tr>\n",
       "  </tbody>\n",
       "</table>\n",
       "</div>"
      ],
      "text/plain": [
       "   window_id  time_step   close             event_datetime    token\n",
       "0          1          0  0.1131  2025-01-01 00:00:00+00:00  XLMUSDT\n",
       "1          1          1  0.1131  2025-01-01 00:01:00+00:00  XLMUSDT\n",
       "2          1          2  0.1130  2025-01-01 00:02:00+00:00  XLMUSDT"
      ]
     },
     "metadata": {},
     "output_type": "display_data"
    }
   ],
   "source": [
    "# Load dataset files\n",
    "info_path = DATA / \"dataset_info.json\"\n",
    "if info_path.exists():\n",
    "    info = json.loads(info_path.read_text(encoding=\"utf-8\"))\n",
    "    print(\"dataset_info.json loaded. Keys:\", list(info.keys()))\n",
    "    print(json.dumps({k: info[k] for k in ['features','input_len','horizon_len','outputs']}, indent=2))\n",
    "else:\n",
    "    print(\"dataset_info.json not found at\", info_path)\n",
    "\n",
    "# Peek train / x_test\n",
    "train_path = DATA / \"train.pkl\"\n",
    "x_test_path  = DATA / \"x_test.pkl\"\n",
    "y_local_path = DATA / \"y_test_local_time.pkl\"\n",
    "\n",
    "train = pd.read_pickle(train_path)\n",
    "x_test  = pd.read_pickle(x_test_path)\n",
    "y_test_local = pd.read_pickle(y_local_path)\n",
    "\n",
    "print(\"train shape:\", train.shape, \"| columns:\", train.columns.tolist())\n",
    "print(\"x_test  shape:\", x_test.shape,  \"| columns:\", x_test.columns.tolist())\n",
    "print(\"y_test_local_time shape:\", y_test_local.shape, \"| columns:\", y_test_local.columns.tolist())\n",
    "\n",
    "display(train.head(3))\n",
    "display(x_test.head(3))\n",
    "display(y_test_local.head(3))"
   ]
  },
  {
   "cell_type": "code",
   "execution_count": 4,
   "id": "be805975",
   "metadata": {},
   "outputs": [
    {
     "data": {
      "text/plain": [
       "(50000, (50000, 60, 2), (50000, 10))"
      ]
     },
     "execution_count": 4,
     "metadata": {},
     "output_type": "execute_result"
    }
   ],
   "source": [
    "# Use the sampler logic from src/dataset.py to slice windows\n",
    "from dataset import TrainWindowSampler\n",
    "\n",
    "class WindowsDataset(Dataset):\n",
    "    \"\"\"\n",
    "    Wrap TrainWindowSampler into a PyTorch Dataset.\n",
    "    Returns:\n",
    "      X: (60, 2) float32 -> [close, volume]\n",
    "      y: (10,)  float32 -> future close\n",
    "    \"\"\"\n",
    "    def __init__(self, train_path: str, rolling: bool = True, step_size: int = 1, max_samples: int = None):\n",
    "        self.sampler = TrainWindowSampler(\n",
    "            train_path=train_path,\n",
    "            window=70,\n",
    "            input_len=60,\n",
    "            horizon_len=10,\n",
    "            rolling=rolling,\n",
    "            step_size=step_size,\n",
    "            seed=SEED,\n",
    "        )\n",
    "        # Materialize (optionally capped) for stable batching\n",
    "        xs, ys = [], []\n",
    "        for i, (X, y) in enumerate(self.sampler.iter_windows()):\n",
    "            xs.append(X.astype(np.float32))\n",
    "            ys.append(y.astype(np.float32))\n",
    "            if max_samples is not None and (i + 1) >= max_samples:\n",
    "                break\n",
    "        self.X = np.stack(xs, axis=0) if xs else np.zeros((0,60,2), dtype=np.float32)\n",
    "        self.y = np.stack(ys, axis=0) if ys else np.zeros((0,10), dtype=np.float32)\n",
    "\n",
    "    def __len__(self):  return len(self.X)\n",
    "    def __getitem__(self, i):\n",
    "        return torch.from_numpy(self.X[i]), torch.from_numpy(self.y[i])\n",
    "\n",
    "# For a quick demo, cap samples. Increase for better quality.\n",
    "MAX_SAMPLES = 50000  # set to None to use all windows\n",
    "train_ds = WindowsDataset(str(train_path), rolling=True, step_size=1, max_samples=MAX_SAMPLES)\n",
    "len(train_ds), train_ds.X.shape, train_ds.y.shape"
   ]
  },
  {
   "cell_type": "code",
   "execution_count": 5,
   "id": "ad8e305b",
   "metadata": {},
   "outputs": [
    {
     "name": "stdout",
     "output_type": "stream",
     "text": [
      "Saved dummy weights to c:\\Users\\xyy31\\Desktop\\ICAIF_2025_Cryptocurrency_Forecasting_Starter_Kit\\sample_submission\\model_weights.pkl\n"
     ]
    }
   ],
   "source": [
    "# ARIMA baseline\n",
    "from baselines.arima import ARIMABaseline\n",
    "\n",
    "ari = ARIMABaseline(order=(1,1,0), maxiter=50)\n",
    "ari.fit(train)\n",
    "\n",
    "# Save dummy weights after fitting\n",
    "import pickle\n",
    "from pathlib import Path\n",
    "\n",
    "weights_out = SUBM / \"model_weights.pkl\"\n",
    "with open(weights_out, \"wb\") as f:\n",
    "    pickle.dump({\"config\": ari.cfg.__dict__}, f)\n",
    "\n",
    "print(\"Saved dummy weights to\", weights_out)"
   ]
  },
  {
   "cell_type": "code",
   "execution_count": 6,
   "id": "df97b1c5",
   "metadata": {},
   "outputs": [
    {
     "name": "stdout",
     "output_type": "stream",
     "text": [
      "Infer on 500 / 50000 windows (forced include: [1, 2])\n"
     ]
    },
    {
     "data": {
      "application/vnd.jupyter.widget-view+json": {
       "model_id": "c1f62e5b1a584911beeefa8c063414cf",
       "version_major": 2,
       "version_minor": 0
      },
      "text/plain": [
       "ARIMA infer:   0%|          | 0/500 [00:00<?, ?it/s]"
      ]
     },
     "metadata": {},
     "output_type": "display_data"
    },
    {
     "name": "stdout",
     "output_type": "stream",
     "text": [
      "Saved preview to c:\\Users\\xyy31\\Desktop\\ICAIF_2025_Cryptocurrency_Forecasting_Starter_Kit\\sample_submission\\submission_example.pkl  rows=5000  windows=500\n"
     ]
    },
    {
     "data": {
      "application/vnd.microsoft.datawrangler.viewer.v0+json": {
       "columns": [
        {
         "name": "index",
         "rawType": "int64",
         "type": "integer"
        },
        {
         "name": "window_id",
         "rawType": "int32",
         "type": "integer"
        },
        {
         "name": "time_step",
         "rawType": "int8",
         "type": "integer"
        },
        {
         "name": "pred_close",
         "rawType": "float32",
         "type": "float"
        }
       ],
       "ref": "655f7987-8255-4c3c-bfe1-f0abb2a8339e",
       "rows": [
        [
         "0",
         "1",
         "0",
         "0.1131"
        ],
        [
         "1",
         "1",
         "1",
         "0.1131"
        ],
        [
         "2",
         "1",
         "2",
         "0.1131"
        ],
        [
         "3",
         "1",
         "3",
         "0.1131"
        ],
        [
         "4",
         "1",
         "4",
         "0.1131"
        ],
        [
         "5",
         "1",
         "5",
         "0.1131"
        ],
        [
         "6",
         "1",
         "6",
         "0.1131"
        ],
        [
         "7",
         "1",
         "7",
         "0.1131"
        ],
        [
         "8",
         "1",
         "8",
         "0.1131"
        ],
        [
         "9",
         "1",
         "9",
         "0.1131"
        ],
        [
         "10",
         "2",
         "0",
         "0.06229725"
        ],
        [
         "11",
         "2",
         "1",
         "0.062294543"
        ]
       ],
       "shape": {
        "columns": 3,
        "rows": 12
       }
      },
      "text/html": [
       "<div>\n",
       "<style scoped>\n",
       "    .dataframe tbody tr th:only-of-type {\n",
       "        vertical-align: middle;\n",
       "    }\n",
       "\n",
       "    .dataframe tbody tr th {\n",
       "        vertical-align: top;\n",
       "    }\n",
       "\n",
       "    .dataframe thead th {\n",
       "        text-align: right;\n",
       "    }\n",
       "</style>\n",
       "<table border=\"1\" class=\"dataframe\">\n",
       "  <thead>\n",
       "    <tr style=\"text-align: right;\">\n",
       "      <th></th>\n",
       "      <th>window_id</th>\n",
       "      <th>time_step</th>\n",
       "      <th>pred_close</th>\n",
       "    </tr>\n",
       "  </thead>\n",
       "  <tbody>\n",
       "    <tr>\n",
       "      <th>0</th>\n",
       "      <td>1</td>\n",
       "      <td>0</td>\n",
       "      <td>0.113100</td>\n",
       "    </tr>\n",
       "    <tr>\n",
       "      <th>1</th>\n",
       "      <td>1</td>\n",
       "      <td>1</td>\n",
       "      <td>0.113100</td>\n",
       "    </tr>\n",
       "    <tr>\n",
       "      <th>2</th>\n",
       "      <td>1</td>\n",
       "      <td>2</td>\n",
       "      <td>0.113100</td>\n",
       "    </tr>\n",
       "    <tr>\n",
       "      <th>3</th>\n",
       "      <td>1</td>\n",
       "      <td>3</td>\n",
       "      <td>0.113100</td>\n",
       "    </tr>\n",
       "    <tr>\n",
       "      <th>4</th>\n",
       "      <td>1</td>\n",
       "      <td>4</td>\n",
       "      <td>0.113100</td>\n",
       "    </tr>\n",
       "    <tr>\n",
       "      <th>5</th>\n",
       "      <td>1</td>\n",
       "      <td>5</td>\n",
       "      <td>0.113100</td>\n",
       "    </tr>\n",
       "    <tr>\n",
       "      <th>6</th>\n",
       "      <td>1</td>\n",
       "      <td>6</td>\n",
       "      <td>0.113100</td>\n",
       "    </tr>\n",
       "    <tr>\n",
       "      <th>7</th>\n",
       "      <td>1</td>\n",
       "      <td>7</td>\n",
       "      <td>0.113100</td>\n",
       "    </tr>\n",
       "    <tr>\n",
       "      <th>8</th>\n",
       "      <td>1</td>\n",
       "      <td>8</td>\n",
       "      <td>0.113100</td>\n",
       "    </tr>\n",
       "    <tr>\n",
       "      <th>9</th>\n",
       "      <td>1</td>\n",
       "      <td>9</td>\n",
       "      <td>0.113100</td>\n",
       "    </tr>\n",
       "    <tr>\n",
       "      <th>10</th>\n",
       "      <td>2</td>\n",
       "      <td>0</td>\n",
       "      <td>0.062297</td>\n",
       "    </tr>\n",
       "    <tr>\n",
       "      <th>11</th>\n",
       "      <td>2</td>\n",
       "      <td>1</td>\n",
       "      <td>0.062295</td>\n",
       "    </tr>\n",
       "  </tbody>\n",
       "</table>\n",
       "</div>"
      ],
      "text/plain": [
       "    window_id  time_step  pred_close\n",
       "0           1          0    0.113100\n",
       "1           1          1    0.113100\n",
       "2           1          2    0.113100\n",
       "3           1          3    0.113100\n",
       "4           1          4    0.113100\n",
       "5           1          5    0.113100\n",
       "6           1          6    0.113100\n",
       "7           1          7    0.113100\n",
       "8           1          8    0.113100\n",
       "9           1          9    0.113100\n",
       "10          2          0    0.062297\n",
       "11          2          1    0.062295"
      ]
     },
     "metadata": {},
     "output_type": "display_data"
    },
    {
     "name": "stdout",
     "output_type": "stream",
     "text": [
      "NOTE: This is a PREVIEW subset. For official submission, you must run full inference on ALL windows.\n"
     ]
    }
   ],
   "source": [
    "# Fast preview inference on a subset of x_test (NOT for official submission).\n",
    "# For official submission, run full inference over all windows.\n",
    "\n",
    "FIRST_N_WINDOWS = 500       # set to an integer (e.g., 500). Set to None to disable.\n",
    "\n",
    "all_wids = x_test['window_id'].drop_duplicates().astype('int32').to_numpy()\n",
    "base_sel = all_wids[:int(FIRST_N_WINDOWS)] if FIRST_N_WINDOWS is not None else all_wids # you need to run on all windows for official submission\n",
    "\n",
    "must_wids = np.array([1, 2], dtype=np.int32)\n",
    "exist_mask = np.isin(must_wids, all_wids)\n",
    "if not exist_mask.all():\n",
    "    missing = must_wids[~exist_mask].tolist()\n",
    "    warnings.warn(f\"[Preview] Required window_id(s) not in x_test: {missing}\")\n",
    "sel_wids = np.unique(np.concatenate([base_sel, must_wids[exist_mask]]))\n",
    "print(f\"Infer on {len(sel_wids)} / {len(all_wids)} windows \"\n",
    "      f\"(forced include: {must_wids[exist_mask].tolist()})\")\n",
    "\n",
    "# Build a subset view (optional when running preview)\n",
    "x_test_view = x_test[x_test['window_id'].isin(sel_wids)] if FIRST_N_WINDOWS is not None else x_test\n",
    "\n",
    "# predict -> submission-like DataFrame\n",
    "submission_df = ari.predict_x_test(x_test_view)   # columns: window_id, time_step, pred_close\n",
    "\n",
    "# validate shape for selected windows\n",
    "if not submission_df.empty:\n",
    "    counts = submission_df.groupby('window_id')['time_step'].nunique()\n",
    "    assert (counts == 10).all(), \"Each selected window_id must have exactly 10 rows (0..9).\"\n",
    "\n",
    "# Save preview (NOT for official submission)\n",
    "# For official submission, run inference on ALL windows and save to sample_submission/submission.pkl\n",
    "# out_path = SUBM / \"submission.pkl\"\n",
    "out_path = SUBM / \"submission_example.pkl\"\n",
    "submission_df.to_pickle(out_path)\n",
    "print(f\"Saved preview to {out_path}  rows={len(submission_df)}  \"\n",
    "      f\"windows={submission_df['window_id'].nunique()}\")\n",
    "display(submission_df.head(12))\n",
    "\n",
    "print(\"NOTE: This is a PREVIEW subset. For official submission, you must run full inference on ALL windows.\")"
   ]
  },
  {
   "cell_type": "code",
   "execution_count": 7,
   "id": "8701b55a",
   "metadata": {},
   "outputs": [
    {
     "name": "stdout",
     "output_type": "stream",
     "text": [
      "\n",
      "y_true_local columns: ['window_id', 'time_step', 'close', 'event_datetime', 'token']\n",
      "pred_local columns: ['window_id', 'time_step', 'pred_close']\n",
      "x_test_local columns: ['window_id', 'time_step', 'close', 'volume']\n",
      "\n",
      "============================================================\n",
      "Local Evaluation on window_id 1 & 2 (using NEW metrics)\n",
      "============================================================\n"
     ]
    },
    {
     "data": {
      "application/vnd.microsoft.datawrangler.viewer.v0+json": {
       "columns": [
        {
         "name": "index",
         "rawType": "object",
         "type": "string"
        },
        {
         "name": "value",
         "rawType": "float64",
         "type": "float"
        }
       ],
       "ref": "be9b0a65-e70b-4725-a984-c4365b674c65",
       "rows": [
        [
         "MSE",
         "2.324933845443411e-08"
        ],
        [
         "MAE",
         "0.0001313758984906599"
        ],
        [
         "IC",
         "0.5333333333333333"
        ],
        [
         "IR",
         "2.82842712473119"
        ],
        [
         "SharpeRatio",
         "2.759568142867988"
        ],
        [
         "MDD",
         "0.0"
        ],
        [
         "VaR",
         "0.0011871735254923503"
        ],
        [
         "ES",
         "0.0011867682139078777"
        ]
       ],
       "shape": {
        "columns": 1,
        "rows": 8
       }
      },
      "text/html": [
       "<div>\n",
       "<style scoped>\n",
       "    .dataframe tbody tr th:only-of-type {\n",
       "        vertical-align: middle;\n",
       "    }\n",
       "\n",
       "    .dataframe tbody tr th {\n",
       "        vertical-align: top;\n",
       "    }\n",
       "\n",
       "    .dataframe thead th {\n",
       "        text-align: right;\n",
       "    }\n",
       "</style>\n",
       "<table border=\"1\" class=\"dataframe\">\n",
       "  <thead>\n",
       "    <tr style=\"text-align: right;\">\n",
       "      <th></th>\n",
       "      <th>value</th>\n",
       "    </tr>\n",
       "  </thead>\n",
       "  <tbody>\n",
       "    <tr>\n",
       "      <th>MSE</th>\n",
       "      <td>2.324934e-08</td>\n",
       "    </tr>\n",
       "    <tr>\n",
       "      <th>MAE</th>\n",
       "      <td>1.313759e-04</td>\n",
       "    </tr>\n",
       "    <tr>\n",
       "      <th>IC</th>\n",
       "      <td>5.333333e-01</td>\n",
       "    </tr>\n",
       "    <tr>\n",
       "      <th>IR</th>\n",
       "      <td>2.828427e+00</td>\n",
       "    </tr>\n",
       "    <tr>\n",
       "      <th>SharpeRatio</th>\n",
       "      <td>2.759568e+00</td>\n",
       "    </tr>\n",
       "    <tr>\n",
       "      <th>MDD</th>\n",
       "      <td>0.000000e+00</td>\n",
       "    </tr>\n",
       "    <tr>\n",
       "      <th>VaR</th>\n",
       "      <td>1.187174e-03</td>\n",
       "    </tr>\n",
       "    <tr>\n",
       "      <th>ES</th>\n",
       "      <td>1.186768e-03</td>\n",
       "    </tr>\n",
       "  </tbody>\n",
       "</table>\n",
       "</div>"
      ],
      "text/plain": [
       "                    value\n",
       "MSE          2.324934e-08\n",
       "MAE          1.313759e-04\n",
       "IC           5.333333e-01\n",
       "IR           2.828427e+00\n",
       "SharpeRatio  2.759568e+00\n",
       "MDD          0.000000e+00\n",
       "VaR          1.187174e-03\n",
       "ES           1.186768e-03"
      ]
     },
     "metadata": {},
     "output_type": "display_data"
    },
    {
     "name": "stdout",
     "output_type": "stream",
     "text": [
      "\n",
      "============================================================\n",
      "Script completed successfully!\n",
      "============================================================\n"
     ]
    }
   ],
   "source": [
    "# Local test on window_id {1,2} with y_test_local.pkl\n",
    "if not y_local_path.exists():\n",
    "    warnings.warn(f\"y_test_local_time.pkl not found at: {y_local_path}. Skip local eval.\")\n",
    "else:\n",
    "    # NOTE: updated evaluate_all_metrics expects (y_true, y_pred, x_like, y_true_with_base, horizon_step)\n",
    "    from metrics import evaluate_all_metrics\n",
    "\n",
    "    target_wids = [1, 2]\n",
    "    y_local = pd.read_pickle(y_local_path)     # ground truth: ['window_id','time_step','close','event_datetime','token']\n",
    "    pred_local = submission_df[submission_df[\"window_id\"].isin(target_wids)].copy()\n",
    "\n",
    "    # Integrity check: each selected window must have exactly 10 prediction steps\n",
    "    if not pred_local.empty:\n",
    "        _c = pred_local.groupby(\"window_id\")[\"time_step\"].nunique()\n",
    "        assert (_c == 10).all(), f\"Incomplete prediction steps: {_c.to_dict()}\"\n",
    "\n",
    "    # Build x_like from x_test: use time_step == 59 as base_close reference\n",
    "    x_test_local = x_test[x_test[\"window_id\"].isin(target_wids)].copy()\n",
    "\n",
    "    # Normalize dtypes for consistency\n",
    "    for df in (y_local, pred_local, x_test_local):\n",
    "        if \"window_id\" in df: df[\"window_id\"] = df[\"window_id\"].astype(\"int32\")\n",
    "        if \"time_step\" in df: df[\"time_step\"] = df[\"time_step\"].astype(\"int8\")\n",
    "        if \"close\" in df: df[\"close\"] = df[\"close\"].astype(\"float32\")\n",
    "        if \"pred_close\" in df: df[\"pred_close\"] = df[\"pred_close\"].astype(\"float32\")\n",
    "\n",
    "    # Keep only ground truth for {1,2}\n",
    "    y_true_local = y_local[y_local[\"window_id\"].isin(target_wids)].copy()\n",
    "\n",
    "    # Verify that y_true_local has event_datetime column\n",
    "    if \"event_datetime\" not in y_true_local.columns:\n",
    "        raise ValueError(\"y_test_local_time.pkl must contain 'event_datetime' column\")\n",
    "    \n",
    "    print(f\"\\ny_true_local columns: {y_true_local.columns.tolist()}\")\n",
    "    print(f\"pred_local columns: {pred_local.columns.tolist()}\")\n",
    "    print(f\"x_test_local columns: {x_test_local.columns.tolist()}\")\n",
    "\n",
    "    # Compute metrics: error metrics + strategy-based (CSM/LOTQ/PW) Sharpe, MDD, VaR, ES\n",
    "    try:\n",
    "        metrics_dict = evaluate_all_metrics(\n",
    "            y_true=y_true_local,\n",
    "            y_pred=pred_local,\n",
    "            x_test=x_test_local,\n",
    "            alpha=0.05,\n",
    "        )\n",
    "        \n",
    "        print(\"\\n\" + \"=\"*60)\n",
    "        print(\"Local Evaluation on window_id 1 & 2 (using NEW metrics)\")\n",
    "        print(\"=\"*60)\n",
    "        \n",
    "        # Display metrics in a nice format\n",
    "        metrics_df = pd.DataFrame([metrics_dict]).T.rename(columns={0: \"value\"})\n",
    "        display(metrics_df)\n",
    "    \n",
    "        \n",
    "    except Exception as e:\n",
    "        print(f\"\\n❌ Error during metric evaluation: {e}\")\n",
    "        import traceback\n",
    "        traceback.print_exc()\n",
    "\n",
    "print(\"\\n\" + \"=\"*60)\n",
    "print(\"Script completed successfully!\")\n",
    "print(\"=\"*60)"
   ]
  }
 ],
 "metadata": {
  "kernelspec": {
   "display_name": "Python 3",
   "language": "python",
   "name": "python3"
  },
  "language_info": {
   "codemirror_mode": {
    "name": "ipython",
    "version": 3
   },
   "file_extension": ".py",
   "mimetype": "text/x-python",
   "name": "python",
   "nbconvert_exporter": "python",
   "pygments_lexer": "ipython3",
   "version": "3.13.2"
  }
 },
 "nbformat": 4,
 "nbformat_minor": 5
}
